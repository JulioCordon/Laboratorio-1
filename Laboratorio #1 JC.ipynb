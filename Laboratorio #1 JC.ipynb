{
 "cells": [
  {
   "cell_type": "markdown",
   "id": "44a2c9d8-8bb9-4515-b872-011fbda2568f",
   "metadata": {},
   "source": [
    " ¿Qué es Git?"
   ]
  },
  {
   "cell_type": "markdown",
   "id": "fd760165-3a5c-4b8d-9ea6-4db86be11105",
   "metadata": {
    "tags": []
   },
   "source": [
    "Un sistema de control de versiones o VCS (Version Control System, por sus siglas en inglés), rastrea el historial de cambios conforme las personas y los equipos colaboran juntos en los proyectos. Conforme los desarrolladores hacen cambios al proyecto, cualquier versión anterior de este puede recuperarse en cualquier momento.\n",
    "Los desarrolladores pueden revisar el historial de proyectos para averiguar:\n",
    "•\t¿Qué cambios se hicieron?\n",
    "•\t¿Quién los hizo?\n",
    "•\t¿Cuándo se hicieron?\n",
    "•\t¿Por qué se necesitaban?\n",
    "Los VCS le proporcionan a cada contribuyente una vista consistente y unificada de un proyecto, lo cual muestra el trabajo que ya está en progreso. El ver un historial de cambios transparente, quién los hizo y cómo contribuyen al desarrollo de un proyecto, ayuda a que los miembros de los equipos se alineen mientras trabajan independientemente.\n"
   ]
  },
  {
   "cell_type": "markdown",
   "id": "b47e4e75-36f8-4867-b00c-006d6912b6f6",
   "metadata": {},
   "source": [
    "¿ Qué es Github?"
   ]
  },
  {
   "cell_type": "markdown",
   "id": "0a361e32-e648-494d-859c-5c442c126949",
   "metadata": {},
   "source": [
    "GitHub es una plataforma en línea que utiliza el sistema de control de versiones Git para ayudar a los desarrolladores a colaborar en proyectos de software. Es como una red social para desarrolladores, donde pueden compartir su código, colaborar en proyectos, realizar un seguimiento de problemas y realizar comentarios sobre el trabajo de los demás.\n",
    "En GitHub, los desarrolladores pueden crear \"repositorios\" para almacenar su código y colaborar con otros. Pueden realizar cambios en el código (llamados \"commits\"), crear \"ramas\" para trabajar en nuevas características o correcciones de errores sin afectar la versión principal del proyecto, y luego fusionar esos cambios de vuelta cuando estén listos.\n",
    "Además, GitHub proporciona herramientas para administrar proyectos de software, como seguimiento de problemas (issues), solicitudes de extracción (pull requests), wikis para documentación y más. Es una plataforma muy popular y ampliamente utilizada en la comunidad de desarrollo de software.\n"
   ]
  },
  {
   "cell_type": "markdown",
   "id": "17f433d1-7559-40db-a424-786a12de4b29",
   "metadata": {},
   "source": [
    "MagicCells"
   ]
  },
  {
   "cell_type": "markdown",
   "id": "05827d1d-91b3-4c62-970e-8c4ce1f9fc9f",
   "metadata": {},
   "source": [
    "En Jupyter Notebook, hay algo llamado \"magic commands\" o comandos mágicos, que son atajos de una sola línea que te permiten realizar acciones específicas. Estos comandos mágicos comienzan con % si son para una sola línea y %% si son para toda una celda. Uno de los comandos mágicos más útiles es %matplotlib, que permite mostrar gráficos en línea en un cuaderno Jupyter."
   ]
  }
 ],
 "metadata": {
  "kernelspec": {
   "display_name": "Python 3 (ipykernel)",
   "language": "python",
   "name": "python3"
  },
  "language_info": {
   "codemirror_mode": {
    "name": "ipython",
    "version": 3
   },
   "file_extension": ".py",
   "mimetype": "text/x-python",
   "name": "python",
   "nbconvert_exporter": "python",
   "pygments_lexer": "ipython3",
   "version": "3.11.5"
  }
 },
 "nbformat": 4,
 "nbformat_minor": 5
}
